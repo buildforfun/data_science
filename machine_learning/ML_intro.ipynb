{
 "cells": [
  {
   "cell_type": "markdown",
   "metadata": {},
   "source": [
    "# Machine Learning fundamentals\n",
    "\n",
    "## What is Machine Learning?\n",
    "\n",
    "One sentence: Machine learning is teaching a machine to learn from data.\n",
    "\n",
    "Machine learning is teaching a machine to learn from data. This means programmers aren't needed to explicity do tasks, instead large amounts of data is fed into the machine and the machine uses algorithmns to identify patterns within the data. Using the patterns the machine creates a model that is used to make predictions or carry out tasks without being explicity told to do those tasks.\n",
    "\n",
    "Machine learning model: A statistical representation of real-world process based on data\n",
    "\n",
    "## How do you make the machine learn? The machine learning workflow:\n",
    "1. Data collection\n",
    "2. Data preparation\n",
    "3. Train the model\n",
    "4. Evaluate the model\n",
    "5. Deploy machine's model\n",
    "\n",
    "## Types of Machine learning\n",
    "Depending on the data you have to teach the machine differently. \n",
    "1. Supervised learning: labelled data\n",
    "2. Unsupervised learning: unlabelled data\n",
    "3. Reinforcement learning"
   ]
  }
 ],
 "metadata": {
  "kernelspec": {
   "display_name": "Python 3",
   "language": "python",
   "name": "python3"
  },
  "language_info": {
   "name": "python",
   "version": "3.7.3"
  }
 },
 "nbformat": 4,
 "nbformat_minor": 2
}
